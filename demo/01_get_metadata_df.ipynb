{
 "cells": [
  {
   "cell_type": "markdown",
   "id": "e344ff93-64e7-4cb8-8ec0-34104ce1abcf",
   "metadata": {},
   "source": [
    "Demonstrate the use of `amrex2dask` based off a 3 TB plotfile from Lawrence Cheung's [AWAKEN simulations](https://github.com/lawrenceccheung/AWAKEN_summit_setup)."
   ]
  },
  {
   "cell_type": "code",
   "execution_count": 7,
   "id": "f580aaf9-e5ba-488f-9830-ef386c4a39b3",
   "metadata": {},
   "outputs": [],
   "source": [
    "from amrex2dask import AMReXDatasetMeta, AMReXFabsMetaSingleLevel\n",
    "from datetime import datetime\n",
    "from pathlib import Path\n",
    "import pandas as pd"
   ]
  },
  {
   "cell_type": "code",
   "execution_count": 8,
   "id": "01ea3391-51dc-4213-83fe-597df0ce654d",
   "metadata": {},
   "outputs": [],
   "source": [
    "### Set up\n",
    "## File paths\n",
    "fname1 = 'UnstableABL1_farmrun1_noturbs'\n",
    "fname2 = 'plt74000'\n",
    "fplt = Path(\"/projects/awaken/lcheung/summit/\", fname1+'/'+fname2)\n",
    "outdir = Path('/projects/awaken/orybchuk/awaken-amrwind/analyze/yt/', fname1+'/'+fname2)\n",
    "outdir.mkdir(exist_ok=True, parents=True)"
   ]
  },
  {
   "cell_type": "code",
   "execution_count": 9,
   "id": "3b7b87da-5cec-426b-ac6e-3d011daf5917",
   "metadata": {},
   "outputs": [],
   "source": [
    "### Read dataset header\n",
    "dataset = AMReXDatasetMeta(fplt)"
   ]
  },
  {
   "cell_type": "code",
   "execution_count": 10,
   "id": "a4f77c74-18d3-4289-a65c-a119fb6e0d06",
   "metadata": {},
   "outputs": [
    {
     "name": "stdout",
     "output_type": "stream",
     "text": [
      "Level 0 2023-03-08 09:57:32.464893\n",
      "Level 1 2023-03-08 10:07:59.457084\n",
      "Level 2 2023-03-08 10:27:48.261465\n",
      "Level 3 2023-03-08 11:01:22.567900\n"
     ]
    }
   ],
   "source": [
    "### Read and write out metadata for each level\n",
    "print(\"Level 0\", datetime.now())\n",
    "lev0_meta = AMReXFabsMetaSingleLevel(fplt, dataset.n_fields, dataset.dimensionality, level=0)\n",
    "lev0_meta.metadata.to_csv(Path(outdir, 'lev0_meta.csv'))\n",
    "\n",
    "print(\"Level 1\", datetime.now())\n",
    "lev1_meta = AMReXFabsMetaSingleLevel(fplt, dataset.n_fields, dataset.dimensionality, level=1)\n",
    "lev1_meta.metadata.to_csv(Path(outdir, 'lev1_meta.csv'))\n",
    "\n",
    "print(\"Level 2\", datetime.now())\n",
    "lev2_meta = AMReXFabsMetaSingleLevel(fplt, dataset.n_fields, dataset.dimensionality, level=2)\n",
    "lev2_meta.metadata.to_csv(Path(outdir, 'lev2_meta.csv'))\n",
    "\n",
    "print(\"Level 3\", datetime.now())\n",
    "lev3_meta = AMReXFabsMetaSingleLevel(fplt, dataset.n_fields, dataset.dimensionality, level=3)\n",
    "lev3_meta.metadata.to_csv(Path(outdir, 'lev3_meta.csv'))"
   ]
  },
  {
   "cell_type": "code",
   "execution_count": null,
   "id": "c29faf09-200a-4140-b9d2-d1b135a65d93",
   "metadata": {},
   "outputs": [],
   "source": []
  }
 ],
 "metadata": {
  "kernelspec": {
   "display_name": "daskenv202301",
   "language": "python",
   "name": "daskenv202301"
  },
  "language_info": {
   "codemirror_mode": {
    "name": "ipython",
    "version": 3
   },
   "file_extension": ".py",
   "mimetype": "text/x-python",
   "name": "python",
   "nbconvert_exporter": "python",
   "pygments_lexer": "ipython3",
   "version": "3.9.12"
  }
 },
 "nbformat": 4,
 "nbformat_minor": 5
}
