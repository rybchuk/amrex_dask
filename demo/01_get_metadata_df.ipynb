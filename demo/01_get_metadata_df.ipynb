{
 "cells": [
  {
   "cell_type": "code",
   "execution_count": 3,
   "id": "f580aaf9-e5ba-488f-9830-ef386c4a39b3",
   "metadata": {},
   "outputs": [],
   "source": [
    "from amrex2dask import AMReXDatasetMeta, AMReXFabsMetaSingleLevel\n",
    "from datetime import datetime\n",
    "from pathlib import Path\n",
    "import pandas as pd"
   ]
  },
  {
   "cell_type": "code",
   "execution_count": 4,
   "id": "01ea3391-51dc-4213-83fe-597df0ce654d",
   "metadata": {},
   "outputs": [],
   "source": [
    "### Set up\n",
    "## File paths\n",
    "fname1 = 'UnstableABL1_farmrun1_noturbs'\n",
    "fname2 = 'plt74000'\n",
    "fplt = Path(\"/projects/awaken/lcheung/summit/\", fname1+'/'+fname2)\n",
    "outdir = Path('/projects/awaken/orybchuk/awaken-amrwind/analyze/yt/', fname1+'/'+fname2)\n",
    "outdir.mkdir(exist_ok=True, parents=True)"
   ]
  },
  {
   "cell_type": "code",
   "execution_count": 5,
   "id": "3b7b87da-5cec-426b-ac6e-3d011daf5917",
   "metadata": {},
   "outputs": [],
   "source": [
    "### Read dataset header\n",
    "dataset = AMReXDatasetMeta(fplt)"
   ]
  },
  {
   "cell_type": "code",
   "execution_count": 6,
   "id": "a4f77c74-18d3-4289-a65c-a119fb6e0d06",
   "metadata": {},
   "outputs": [
    {
     "name": "stdout",
     "output_type": "stream",
     "text": [
      "Level 0 2023-03-07 10:42:49.824596\n"
     ]
    },
    {
     "ename": "KeyboardInterrupt",
     "evalue": "",
     "output_type": "error",
     "traceback": [
      "\u001b[0;31m---------------------------------------------------------------------------\u001b[0m",
      "\u001b[0;31mKeyboardInterrupt\u001b[0m                         Traceback (most recent call last)",
      "Input \u001b[0;32mIn [6]\u001b[0m, in \u001b[0;36m<cell line: 3>\u001b[0;34m()\u001b[0m\n\u001b[1;32m      1\u001b[0m \u001b[38;5;66;03m### Read and write out metadata for each level\u001b[39;00m\n\u001b[1;32m      2\u001b[0m \u001b[38;5;28mprint\u001b[39m(\u001b[38;5;124m\"\u001b[39m\u001b[38;5;124mLevel 0\u001b[39m\u001b[38;5;124m\"\u001b[39m, datetime\u001b[38;5;241m.\u001b[39mnow())\n\u001b[0;32m----> 3\u001b[0m lev0_meta \u001b[38;5;241m=\u001b[39m \u001b[43mAMReXFabsMetaSingleLevel\u001b[49m\u001b[43m(\u001b[49m\u001b[43mfplt\u001b[49m\u001b[43m,\u001b[49m\u001b[43m \u001b[49m\u001b[43mdataset\u001b[49m\u001b[38;5;241;43m.\u001b[39;49m\u001b[43mn_fields\u001b[49m\u001b[43m,\u001b[49m\u001b[43m \u001b[49m\u001b[43mdataset\u001b[49m\u001b[38;5;241;43m.\u001b[39;49m\u001b[43mdimensionality\u001b[49m\u001b[43m,\u001b[49m\u001b[43m \u001b[49m\u001b[43mlevel\u001b[49m\u001b[38;5;241;43m=\u001b[39;49m\u001b[38;5;241;43m0\u001b[39;49m\u001b[43m)\u001b[49m\n",
      "File \u001b[0;32m/lustre/eaglefs/projects/awaken/orybchuk/awaken-amrwind/analyze/yt/amrex2dask.py:120\u001b[0m, in \u001b[0;36mAMReXFabsMetaSingleLevel.__init__\u001b[0;34m(self, fplt, n_fields, dimensionality, level)\u001b[0m\n\u001b[1;32m    117\u001b[0m \u001b[38;5;28mself\u001b[39m\u001b[38;5;241m.\u001b[39mlevel \u001b[38;5;241m=\u001b[39m level\n\u001b[1;32m    118\u001b[0m \u001b[38;5;28mself\u001b[39m\u001b[38;5;241m.\u001b[39mfheader_file \u001b[38;5;241m=\u001b[39m Path(\u001b[38;5;28mself\u001b[39m\u001b[38;5;241m.\u001b[39mfplt, \u001b[38;5;124mf\u001b[39m\u001b[38;5;124m'\u001b[39m\u001b[38;5;124mLevel_\u001b[39m\u001b[38;5;132;01m{\u001b[39;00mlevel\u001b[38;5;132;01m}\u001b[39;00m\u001b[38;5;124m/Cell_H\u001b[39m\u001b[38;5;124m'\u001b[39m)\n\u001b[0;32m--> 120\u001b[0m \u001b[38;5;28;43mself\u001b[39;49m\u001b[38;5;241;43m.\u001b[39;49m\u001b[43m_parse_level_header\u001b[49m\u001b[43m(\u001b[49m\u001b[43m)\u001b[49m\n",
      "File \u001b[0;32m/lustre/eaglefs/projects/awaken/orybchuk/awaken-amrwind/analyze/yt/amrex2dask.py:209\u001b[0m, in \u001b[0;36mAMReXFabsMetaSingleLevel._parse_level_header\u001b[0;34m(self)\u001b[0m\n\u001b[1;32m    207\u001b[0m     \u001b[38;5;28;01mwith\u001b[39;00m \u001b[38;5;28mopen\u001b[39m(ffab, \u001b[38;5;124m'\u001b[39m\u001b[38;5;124mrb\u001b[39m\u001b[38;5;124m'\u001b[39m) \u001b[38;5;28;01mas\u001b[39;00m f:\n\u001b[1;32m    208\u001b[0m         f\u001b[38;5;241m.\u001b[39mseek(fab[\u001b[38;5;124m'\u001b[39m\u001b[38;5;124mbyte_offset\u001b[39m\u001b[38;5;124m'\u001b[39m])\n\u001b[0;32m--> 209\u001b[0m         \u001b[43mf\u001b[49m\u001b[38;5;241;43m.\u001b[39;49m\u001b[43mreadline\u001b[49m\u001b[43m(\u001b[49m\u001b[43m)\u001b[49m  \u001b[38;5;66;03m# Always skip the first line\u001b[39;00m\n\u001b[1;32m    210\u001b[0m         fab_data_offset[i] \u001b[38;5;241m=\u001b[39m f\u001b[38;5;241m.\u001b[39mtell()    \n\u001b[1;32m    211\u001b[0m df_meta[\u001b[38;5;124m'\u001b[39m\u001b[38;5;124mdata_offset\u001b[39m\u001b[38;5;124m'\u001b[39m] \u001b[38;5;241m=\u001b[39m fab_data_offset\n",
      "\u001b[0;31mKeyboardInterrupt\u001b[0m: "
     ]
    }
   ],
   "source": [
    "### Read and write out metadata for each level\n",
    "print(\"Level 0\", datetime.now())\n",
    "lev0_meta = AMReXFabsMetaSingleLevel(fplt, dataset.n_fields, dataset.dimensionality, level=0)\n",
    "# lev0_meta.metadata.to_csv(Path(outdir, 'lev0_meta.csv'))\n",
    "\n",
    "# print(\"Level 1\", datetime.now())\n",
    "# lev1_meta = AMReXFabsMetaSingleLevel(fplt, dataset.n_fields, dataset.dimensionality, level=1)\n",
    "# lev1_meta.metadata.to_csv(Path(outdir, 'lev1_meta.csv'))\n",
    "\n",
    "# print(\"Level 2\", datetime.now())\n",
    "# lev2_meta = AMReXFabsMetaSingleLevel(fplt, dataset.n_fields, dataset.dimensionality, level=2)\n",
    "# lev2_meta.metadata.to_csv(Path(outdir, 'lev2_meta.csv'))\n",
    "\n",
    "# print(\"Level 3\", datetime.now())\n",
    "# lev3_meta = AMReXFabsMetaSingleLevel(fplt, dataset.n_fields, dataset.dimensionality, level=3)\n",
    "# lev3_meta.metadata.to_csv(Path(outdir, 'lev3_meta.csv'))"
   ]
  },
  {
   "cell_type": "code",
   "execution_count": null,
   "id": "c29faf09-200a-4140-b9d2-d1b135a65d93",
   "metadata": {},
   "outputs": [],
   "source": []
  }
 ],
 "metadata": {
  "kernelspec": {
   "display_name": "daskenv202301",
   "language": "python",
   "name": "daskenv202301"
  },
  "language_info": {
   "codemirror_mode": {
    "name": "ipython",
    "version": 3
   },
   "file_extension": ".py",
   "mimetype": "text/x-python",
   "name": "python",
   "nbconvert_exporter": "python",
   "pygments_lexer": "ipython3",
   "version": "3.9.12"
  }
 },
 "nbformat": 4,
 "nbformat_minor": 5
}
